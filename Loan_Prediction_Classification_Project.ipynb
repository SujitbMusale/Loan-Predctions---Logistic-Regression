{
  "nbformat": 4,
  "nbformat_minor": 0,
  "metadata": {
    "colab": {
      "provenance": [],
      "mount_file_id": "1YGjIEnbyukKrneXCA_9bzB76CrBDj1yp",
      "authorship_tag": "ABX9TyOYu3PccsJG4kVrAXQaXoF/",
      "include_colab_link": true
    },
    "kernelspec": {
      "name": "python3",
      "display_name": "Python 3"
    },
    "language_info": {
      "name": "python"
    }
  },
  "cells": [
    {
      "cell_type": "markdown",
      "metadata": {
        "id": "view-in-github",
        "colab_type": "text"
      },
      "source": [
        "<a href=\"https://colab.research.google.com/github/SujitbMusale/Loan-Predctions---Logistic-Regression/blob/main/Loan_Prediction_Classification_Project.ipynb\" target=\"_parent\"><img src=\"https://colab.research.google.com/assets/colab-badge.svg\" alt=\"Open In Colab\"/></a>"
      ]
    },
    {
      "cell_type": "code",
      "execution_count": 68,
      "metadata": {
        "id": "FjTbXt1lyTJd"
      },
      "outputs": [],
      "source": [
        "import pandas as pd\n",
        "import datetime as dt\n",
        "import numpy as np\n",
        "from sklearn.preprocessing import MinMaxScaler\n",
        "from sklearn.model_selection import train_test_split\n",
        "from sklearn.linear_model import LogisticRegression\n",
        "from sklearn.metrics import classification_report,confusion_matrix\n",
        "from sklearn.metrics import precision_recall_fscore_support\n",
        "\n",
        "\n",
        "import warnings\n",
        "warnings.filterwarnings(\"ignore\")"
      ]
    },
    {
      "cell_type": "code",
      "source": [
        "from google.colab import drive\n",
        "drive.mount('/content/drive')"
      ],
      "metadata": {
        "colab": {
          "base_uri": "https://localhost:8080/"
        },
        "id": "GeNIl7-p1ADd",
        "outputId": "bd3e5858-baba-491a-a70c-f154bb35b3d3"
      },
      "execution_count": 2,
      "outputs": [
        {
          "output_type": "stream",
          "name": "stdout",
          "text": [
            "Drive already mounted at /content/drive; to attempt to forcibly remount, call drive.mount(\"/content/drive\", force_remount=True).\n"
          ]
        }
      ]
    },
    {
      "cell_type": "code",
      "source": [
        "df = pd.read_csv('/content/drive/MyDrive/almabetter/csv files/LoanStats Dataset.csv',encoding ='latin1')"
      ],
      "metadata": {
        "id": "TdLGDFCH1DKH"
      },
      "execution_count": 3,
      "outputs": []
    },
    {
      "cell_type": "code",
      "source": [
        "df.head()"
      ],
      "metadata": {
        "colab": {
          "base_uri": "https://localhost:8080/",
          "height": 456
        },
        "id": "ymfNmMTP1gIm",
        "outputId": "6a210949-2fcb-46df-d2db-80cee314984b"
      },
      "execution_count": 4,
      "outputs": [
        {
          "output_type": "execute_result",
          "data": {
            "text/plain": [
              "  Loan ID  Amount Requested  Amount Funded By Investors Interest Rate  \\\n",
              "0   87023            7500.0                      7500.0        13.75%   \n",
              "1   90376            5000.0                      5000.0         7.43%   \n",
              "2   90395            5000.0                      5000.0         8.07%   \n",
              "3   90665            8500.0                      8500.0        10.28%   \n",
              "4   92187            2500.0                      2500.0         8.07%   \n",
              "\n",
              "  Loan Length Application Date Application Expiration Date Issued Date  \\\n",
              "0   36 months       2007-06-07                  2007-06-21  2007-06-27   \n",
              "1   36 months       2007-06-12                  2007-06-26  2007-07-02   \n",
              "2   36 months       2007-06-12                  2007-06-26  2007-07-02   \n",
              "3   36 months       2007-06-13                  2007-06-27  2007-07-03   \n",
              "4   36 months       2007-06-15                  2007-06-29  2007-07-05   \n",
              "\n",
              "  CREDIT Grade                 Loan Title  ... Inquiries in the Last 6 Months  \\\n",
              "0           E2         Consolidation Loan  ...                            0.0   \n",
              "1           A2                   JAL Loan  ...                            0.0   \n",
              "2           A4     MBA Loan Consolidation  ...                            0.0   \n",
              "3           C1  Retiring credit card debt  ...                            1.0   \n",
              "4           A4           Home Improvement  ...                            0.0   \n",
              "\n",
              "  Accounts Now Delinquent  Delinquent Amount Delinquencies (Last 2 yrs)  \\\n",
              "0                     0.0                0.0                        1.0   \n",
              "1                     0.0                0.0                        0.0   \n",
              "2                     0.0                0.0                        0.0   \n",
              "3                     0.0                0.0                        1.0   \n",
              "4                     0.0                0.0                        0.0   \n",
              "\n",
              "   Months Since Last Delinquency Public Records On File  \\\n",
              "0                           11.0                    0.0   \n",
              "1                            0.0                    0.0   \n",
              "2                            0.0                    0.0   \n",
              "3                            5.0                    0.0   \n",
              "4                            0.0                    0.0   \n",
              "\n",
              "   Months Since Last Record  Education  Employment Length  Code  \n",
              "0                       0.0        NaN           < 1 year   NaN  \n",
              "1                       0.0        NaN           < 1 year   NaN  \n",
              "2                       0.0        NaN           < 1 year   NaN  \n",
              "3                       0.0        NaN            3 years   NaN  \n",
              "4                       0.0        NaN            4 years   NaN  \n",
              "\n",
              "[5 rows x 41 columns]"
            ],
            "text/html": [
              "\n",
              "  <div id=\"df-8e3bf6e5-a3e0-4b4b-819f-d4091f8143e7\">\n",
              "    <div class=\"colab-df-container\">\n",
              "      <div>\n",
              "<style scoped>\n",
              "    .dataframe tbody tr th:only-of-type {\n",
              "        vertical-align: middle;\n",
              "    }\n",
              "\n",
              "    .dataframe tbody tr th {\n",
              "        vertical-align: top;\n",
              "    }\n",
              "\n",
              "    .dataframe thead th {\n",
              "        text-align: right;\n",
              "    }\n",
              "</style>\n",
              "<table border=\"1\" class=\"dataframe\">\n",
              "  <thead>\n",
              "    <tr style=\"text-align: right;\">\n",
              "      <th></th>\n",
              "      <th>Loan ID</th>\n",
              "      <th>Amount Requested</th>\n",
              "      <th>Amount Funded By Investors</th>\n",
              "      <th>Interest Rate</th>\n",
              "      <th>Loan Length</th>\n",
              "      <th>Application Date</th>\n",
              "      <th>Application Expiration Date</th>\n",
              "      <th>Issued Date</th>\n",
              "      <th>CREDIT Grade</th>\n",
              "      <th>Loan Title</th>\n",
              "      <th>...</th>\n",
              "      <th>Inquiries in the Last 6 Months</th>\n",
              "      <th>Accounts Now Delinquent</th>\n",
              "      <th>Delinquent Amount</th>\n",
              "      <th>Delinquencies (Last 2 yrs)</th>\n",
              "      <th>Months Since Last Delinquency</th>\n",
              "      <th>Public Records On File</th>\n",
              "      <th>Months Since Last Record</th>\n",
              "      <th>Education</th>\n",
              "      <th>Employment Length</th>\n",
              "      <th>Code</th>\n",
              "    </tr>\n",
              "  </thead>\n",
              "  <tbody>\n",
              "    <tr>\n",
              "      <th>0</th>\n",
              "      <td>87023</td>\n",
              "      <td>7500.0</td>\n",
              "      <td>7500.0</td>\n",
              "      <td>13.75%</td>\n",
              "      <td>36 months</td>\n",
              "      <td>2007-06-07</td>\n",
              "      <td>2007-06-21</td>\n",
              "      <td>2007-06-27</td>\n",
              "      <td>E2</td>\n",
              "      <td>Consolidation Loan</td>\n",
              "      <td>...</td>\n",
              "      <td>0.0</td>\n",
              "      <td>0.0</td>\n",
              "      <td>0.0</td>\n",
              "      <td>1.0</td>\n",
              "      <td>11.0</td>\n",
              "      <td>0.0</td>\n",
              "      <td>0.0</td>\n",
              "      <td>NaN</td>\n",
              "      <td>&lt; 1 year</td>\n",
              "      <td>NaN</td>\n",
              "    </tr>\n",
              "    <tr>\n",
              "      <th>1</th>\n",
              "      <td>90376</td>\n",
              "      <td>5000.0</td>\n",
              "      <td>5000.0</td>\n",
              "      <td>7.43%</td>\n",
              "      <td>36 months</td>\n",
              "      <td>2007-06-12</td>\n",
              "      <td>2007-06-26</td>\n",
              "      <td>2007-07-02</td>\n",
              "      <td>A2</td>\n",
              "      <td>JAL Loan</td>\n",
              "      <td>...</td>\n",
              "      <td>0.0</td>\n",
              "      <td>0.0</td>\n",
              "      <td>0.0</td>\n",
              "      <td>0.0</td>\n",
              "      <td>0.0</td>\n",
              "      <td>0.0</td>\n",
              "      <td>0.0</td>\n",
              "      <td>NaN</td>\n",
              "      <td>&lt; 1 year</td>\n",
              "      <td>NaN</td>\n",
              "    </tr>\n",
              "    <tr>\n",
              "      <th>2</th>\n",
              "      <td>90395</td>\n",
              "      <td>5000.0</td>\n",
              "      <td>5000.0</td>\n",
              "      <td>8.07%</td>\n",
              "      <td>36 months</td>\n",
              "      <td>2007-06-12</td>\n",
              "      <td>2007-06-26</td>\n",
              "      <td>2007-07-02</td>\n",
              "      <td>A4</td>\n",
              "      <td>MBA Loan Consolidation</td>\n",
              "      <td>...</td>\n",
              "      <td>0.0</td>\n",
              "      <td>0.0</td>\n",
              "      <td>0.0</td>\n",
              "      <td>0.0</td>\n",
              "      <td>0.0</td>\n",
              "      <td>0.0</td>\n",
              "      <td>0.0</td>\n",
              "      <td>NaN</td>\n",
              "      <td>&lt; 1 year</td>\n",
              "      <td>NaN</td>\n",
              "    </tr>\n",
              "    <tr>\n",
              "      <th>3</th>\n",
              "      <td>90665</td>\n",
              "      <td>8500.0</td>\n",
              "      <td>8500.0</td>\n",
              "      <td>10.28%</td>\n",
              "      <td>36 months</td>\n",
              "      <td>2007-06-13</td>\n",
              "      <td>2007-06-27</td>\n",
              "      <td>2007-07-03</td>\n",
              "      <td>C1</td>\n",
              "      <td>Retiring credit card debt</td>\n",
              "      <td>...</td>\n",
              "      <td>1.0</td>\n",
              "      <td>0.0</td>\n",
              "      <td>0.0</td>\n",
              "      <td>1.0</td>\n",
              "      <td>5.0</td>\n",
              "      <td>0.0</td>\n",
              "      <td>0.0</td>\n",
              "      <td>NaN</td>\n",
              "      <td>3 years</td>\n",
              "      <td>NaN</td>\n",
              "    </tr>\n",
              "    <tr>\n",
              "      <th>4</th>\n",
              "      <td>92187</td>\n",
              "      <td>2500.0</td>\n",
              "      <td>2500.0</td>\n",
              "      <td>8.07%</td>\n",
              "      <td>36 months</td>\n",
              "      <td>2007-06-15</td>\n",
              "      <td>2007-06-29</td>\n",
              "      <td>2007-07-05</td>\n",
              "      <td>A4</td>\n",
              "      <td>Home Improvement</td>\n",
              "      <td>...</td>\n",
              "      <td>0.0</td>\n",
              "      <td>0.0</td>\n",
              "      <td>0.0</td>\n",
              "      <td>0.0</td>\n",
              "      <td>0.0</td>\n",
              "      <td>0.0</td>\n",
              "      <td>0.0</td>\n",
              "      <td>NaN</td>\n",
              "      <td>4 years</td>\n",
              "      <td>NaN</td>\n",
              "    </tr>\n",
              "  </tbody>\n",
              "</table>\n",
              "<p>5 rows × 41 columns</p>\n",
              "</div>\n",
              "      <button class=\"colab-df-convert\" onclick=\"convertToInteractive('df-8e3bf6e5-a3e0-4b4b-819f-d4091f8143e7')\"\n",
              "              title=\"Convert this dataframe to an interactive table.\"\n",
              "              style=\"display:none;\">\n",
              "        \n",
              "  <svg xmlns=\"http://www.w3.org/2000/svg\" height=\"24px\"viewBox=\"0 0 24 24\"\n",
              "       width=\"24px\">\n",
              "    <path d=\"M0 0h24v24H0V0z\" fill=\"none\"/>\n",
              "    <path d=\"M18.56 5.44l.94 2.06.94-2.06 2.06-.94-2.06-.94-.94-2.06-.94 2.06-2.06.94zm-11 1L8.5 8.5l.94-2.06 2.06-.94-2.06-.94L8.5 2.5l-.94 2.06-2.06.94zm10 10l.94 2.06.94-2.06 2.06-.94-2.06-.94-.94-2.06-.94 2.06-2.06.94z\"/><path d=\"M17.41 7.96l-1.37-1.37c-.4-.4-.92-.59-1.43-.59-.52 0-1.04.2-1.43.59L10.3 9.45l-7.72 7.72c-.78.78-.78 2.05 0 2.83L4 21.41c.39.39.9.59 1.41.59.51 0 1.02-.2 1.41-.59l7.78-7.78 2.81-2.81c.8-.78.8-2.07 0-2.86zM5.41 20L4 18.59l7.72-7.72 1.47 1.35L5.41 20z\"/>\n",
              "  </svg>\n",
              "      </button>\n",
              "      \n",
              "  <style>\n",
              "    .colab-df-container {\n",
              "      display:flex;\n",
              "      flex-wrap:wrap;\n",
              "      gap: 12px;\n",
              "    }\n",
              "\n",
              "    .colab-df-convert {\n",
              "      background-color: #E8F0FE;\n",
              "      border: none;\n",
              "      border-radius: 50%;\n",
              "      cursor: pointer;\n",
              "      display: none;\n",
              "      fill: #1967D2;\n",
              "      height: 32px;\n",
              "      padding: 0 0 0 0;\n",
              "      width: 32px;\n",
              "    }\n",
              "\n",
              "    .colab-df-convert:hover {\n",
              "      background-color: #E2EBFA;\n",
              "      box-shadow: 0px 1px 2px rgba(60, 64, 67, 0.3), 0px 1px 3px 1px rgba(60, 64, 67, 0.15);\n",
              "      fill: #174EA6;\n",
              "    }\n",
              "\n",
              "    [theme=dark] .colab-df-convert {\n",
              "      background-color: #3B4455;\n",
              "      fill: #D2E3FC;\n",
              "    }\n",
              "\n",
              "    [theme=dark] .colab-df-convert:hover {\n",
              "      background-color: #434B5C;\n",
              "      box-shadow: 0px 1px 3px 1px rgba(0, 0, 0, 0.15);\n",
              "      filter: drop-shadow(0px 1px 2px rgba(0, 0, 0, 0.3));\n",
              "      fill: #FFFFFF;\n",
              "    }\n",
              "  </style>\n",
              "\n",
              "      <script>\n",
              "        const buttonEl =\n",
              "          document.querySelector('#df-8e3bf6e5-a3e0-4b4b-819f-d4091f8143e7 button.colab-df-convert');\n",
              "        buttonEl.style.display =\n",
              "          google.colab.kernel.accessAllowed ? 'block' : 'none';\n",
              "\n",
              "        async function convertToInteractive(key) {\n",
              "          const element = document.querySelector('#df-8e3bf6e5-a3e0-4b4b-819f-d4091f8143e7');\n",
              "          const dataTable =\n",
              "            await google.colab.kernel.invokeFunction('convertToInteractive',\n",
              "                                                     [key], {});\n",
              "          if (!dataTable) return;\n",
              "\n",
              "          const docLinkHtml = 'Like what you see? Visit the ' +\n",
              "            '<a target=\"_blank\" href=https://colab.research.google.com/notebooks/data_table.ipynb>data table notebook</a>'\n",
              "            + ' to learn more about interactive tables.';\n",
              "          element.innerHTML = '';\n",
              "          dataTable['output_type'] = 'display_data';\n",
              "          await google.colab.output.renderOutput(dataTable, element);\n",
              "          const docLink = document.createElement('div');\n",
              "          docLink.innerHTML = docLinkHtml;\n",
              "          element.appendChild(docLink);\n",
              "        }\n",
              "      </script>\n",
              "    </div>\n",
              "  </div>\n",
              "  "
            ]
          },
          "metadata": {},
          "execution_count": 4
        }
      ]
    },
    {
      "cell_type": "code",
      "source": [
        "df.shape"
      ],
      "metadata": {
        "colab": {
          "base_uri": "https://localhost:8080/"
        },
        "id": "aAYEczYm1irx",
        "outputId": "a5c56ff1-bf32-4562-c69b-bfc84a019e33"
      },
      "execution_count": 5,
      "outputs": [
        {
          "output_type": "execute_result",
          "data": {
            "text/plain": [
              "(36396, 41)"
            ]
          },
          "metadata": {},
          "execution_count": 5
        }
      ]
    },
    {
      "cell_type": "code",
      "source": [
        "df.iloc[1]"
      ],
      "metadata": {
        "colab": {
          "base_uri": "https://localhost:8080/"
        },
        "id": "mFQxCZuD9yTU",
        "outputId": "3066d9eb-12d2-4d1c-d906-11c71b111411"
      },
      "execution_count": 6,
      "outputs": [
        {
          "output_type": "execute_result",
          "data": {
            "text/plain": [
              "Loan ID                                         90376\n",
              "Amount Requested                               5000.0\n",
              "Amount Funded By Investors                     5000.0\n",
              "Interest Rate                                   7.43%\n",
              "Loan Length                                 36 months\n",
              "Application Date                           2007-06-12\n",
              "Application Expiration Date                2007-06-26\n",
              "Issued Date                                2007-07-02\n",
              "CREDIT Grade                                       A2\n",
              "Loan Title                                   JAL Loan\n",
              "Loan Purpose                                    other\n",
              "Loan Description                                  NaN\n",
              "Monthly PAYMENT                                155.38\n",
              "Status                                     Fully Paid\n",
              "Total Amount Funded                            5000.0\n",
              "Debt-To-Income Ratio                            3.72%\n",
              "Remaining Principal Funded by Investors           0.0\n",
              "Payments To Date (Funded by investors)        5174.16\n",
              "Remaining Principal                               0.0\n",
              " Payments To Date                             5174.16\n",
              "Screen Name                                    Laguna\n",
              "City                                        Rockville\n",
              "State                                              MD\n",
              "Home Ownership                               MORTGAGE\n",
              "Monthly Income                               16666.67\n",
              "FICO Range                                       780+\n",
              "Earliest CREDIT Line                       1988-11-19\n",
              "Open CREDIT Lines                                17.0\n",
              "Total CREDIT Lines                               26.0\n",
              "Revolving CREDIT Balance                      85607.0\n",
              "Revolving Line Utilization                       0.7%\n",
              "Inquiries in the Last 6 Months                    0.0\n",
              "Accounts Now Delinquent                           0.0\n",
              "Delinquent Amount                                 0.0\n",
              "Delinquencies (Last 2 yrs)                        0.0\n",
              "Months Since Last Delinquency                     0.0\n",
              "Public Records On File                            0.0\n",
              "Months Since Last Record                          0.0\n",
              "Education                                         NaN\n",
              "Employment Length                            < 1 year\n",
              "Code                                              NaN\n",
              "Name: 1, dtype: object"
            ]
          },
          "metadata": {},
          "execution_count": 6
        }
      ]
    },
    {
      "cell_type": "code",
      "source": [
        "# lets check the columns present in the dataset\n",
        "# number of the columns of the dataset\n",
        "\n",
        "print('features  are: ',df.columns)\n",
        "print('\\n')\n",
        "print('The number of the features are: ',len(df.columns))"
      ],
      "metadata": {
        "id": "5S-X5cUW-VRN",
        "colab": {
          "base_uri": "https://localhost:8080/"
        },
        "outputId": "bcb5faaa-fa01-45c7-e6fe-ac82a8f4375d"
      },
      "execution_count": 7,
      "outputs": [
        {
          "output_type": "stream",
          "name": "stdout",
          "text": [
            "features  are:  Index(['Loan ID', 'Amount Requested', 'Amount Funded By Investors',\n",
            "       'Interest Rate', 'Loan Length', 'Application Date',\n",
            "       'Application Expiration Date', 'Issued Date', 'CREDIT Grade',\n",
            "       'Loan Title', 'Loan Purpose', 'Loan Description', 'Monthly PAYMENT',\n",
            "       'Status', 'Total Amount Funded', 'Debt-To-Income Ratio',\n",
            "       'Remaining Principal Funded by Investors',\n",
            "       'Payments To Date (Funded by investors)', 'Remaining Principal ',\n",
            "       ' Payments To Date', 'Screen Name', 'City', 'State', 'Home Ownership',\n",
            "       'Monthly Income', 'FICO Range', 'Earliest CREDIT Line',\n",
            "       'Open CREDIT Lines', 'Total CREDIT Lines', 'Revolving CREDIT Balance',\n",
            "       'Revolving Line Utilization', 'Inquiries in the Last 6 Months',\n",
            "       'Accounts Now Delinquent', 'Delinquent Amount',\n",
            "       'Delinquencies (Last 2 yrs)', 'Months Since Last Delinquency',\n",
            "       'Public Records On File', 'Months Since Last Record', 'Education',\n",
            "       'Employment Length', 'Code'],\n",
            "      dtype='object')\n",
            "\n",
            "\n",
            "The number of the features are:  41\n"
          ]
        }
      ]
    },
    {
      "cell_type": "markdown",
      "source": [
        "so total 41 features are present in the dataset\n"
      ],
      "metadata": {
        "id": "uS78XdxbEIhP"
      }
    },
    {
      "cell_type": "code",
      "source": [
        "# lets check the null values present in the data set\n",
        "print(df.isnull().sum())"
      ],
      "metadata": {
        "colab": {
          "base_uri": "https://localhost:8080/"
        },
        "id": "TxYKS8MADZN2",
        "outputId": "fd9d1dda-4bb9-4bf8-cca0-abbcd95d3930"
      },
      "execution_count": 8,
      "outputs": [
        {
          "output_type": "stream",
          "name": "stdout",
          "text": [
            "Loan ID                                        0\n",
            "Amount Requested                               1\n",
            "Amount Funded By Investors                     1\n",
            "Interest Rate                                  1\n",
            "Loan Length                                    1\n",
            "Application Date                               1\n",
            "Application Expiration Date                    1\n",
            "Issued Date                                  177\n",
            "CREDIT Grade                                   1\n",
            "Loan Title                                    14\n",
            "Loan Purpose                                   1\n",
            "Loan Description                           10544\n",
            "Monthly PAYMENT                                1\n",
            "Status                                         1\n",
            "Total Amount Funded                            1\n",
            "Debt-To-Income Ratio                           1\n",
            "Remaining Principal Funded by Investors        1\n",
            "Payments To Date (Funded by investors)         1\n",
            "Remaining Principal                            1\n",
            " Payments To Date                              1\n",
            "Screen Name                                    2\n",
            "City                                           1\n",
            "State                                          1\n",
            "Home Ownership                                 1\n",
            "Monthly Income                                 1\n",
            "FICO Range                                    18\n",
            "Earliest CREDIT Line                          30\n",
            "Open CREDIT Lines                             30\n",
            "Total CREDIT Lines                            30\n",
            "Revolving CREDIT Balance                      30\n",
            "Revolving Line Utilization                    88\n",
            "Inquiries in the Last 6 Months                30\n",
            "Accounts Now Delinquent                       30\n",
            "Delinquent Amount                             30\n",
            "Delinquencies (Last 2 yrs)                    30\n",
            "Months Since Last Delinquency              22695\n",
            "Public Records On File                        30\n",
            "Months Since Last Record                   32964\n",
            "Education                                  30523\n",
            "Employment Length                            904\n",
            "Code                                       10921\n",
            "dtype: int64\n"
          ]
        }
      ]
    },
    {
      "cell_type": "markdown",
      "source": [
        "we can see that there are many variables are having null values"
      ],
      "metadata": {
        "id": "GXnt2KR6GBIJ"
      }
    },
    {
      "cell_type": "code",
      "source": [
        "# lets check the unique values present in the various independent and dependent varaible\n",
        "# lest refer the unique value list as follows\n",
        "lst=[]\n",
        "for i in df.columns:\n",
        "  lst.append([i,len(df[i].unique())])\n",
        "unique_feature_list=pd.DataFrame(lst,columns=['Feature','No of unique element'])\n",
        "print(unique_feature_list.sort_values(by='No of unique element'))"
      ],
      "metadata": {
        "colab": {
          "base_uri": "https://localhost:8080/"
        },
        "id": "_QE9jIt2EZIe",
        "outputId": "1bdc54c3-db66-4967-c064-342bd1554cf9"
      },
      "execution_count": 9,
      "outputs": [
        {
          "output_type": "stream",
          "name": "stdout",
          "text": [
            "                                    Feature  No of unique element\n",
            "32                  Accounts Now Delinquent                     3\n",
            "4                               Loan Length                     3\n",
            "33                        Delinquent Amount                     4\n",
            "23                           Home Ownership                     6\n",
            "25                               FICO Range                     7\n",
            "36                   Public Records On File                     7\n",
            "39                        Employment Length                    12\n",
            "34               Delinquencies (Last 2 yrs)                    13\n",
            "10                             Loan Purpose                    15\n",
            "13                                   Status                    19\n",
            "31           Inquiries in the Last 6 Months                    29\n",
            "8                              CREDIT Grade                    36\n",
            "27                        Open CREDIT Lines                    45\n",
            "22                                    State                    51\n",
            "28                       Total CREDIT Lines                    84\n",
            "35            Months Since Last Delinquency                    96\n",
            "37                 Months Since Last Record                   113\n",
            "3                             Interest Rate                   393\n",
            "40                                     Code                   584\n",
            "1                          Amount Requested                   835\n",
            "14                      Total Amount Funded                  1016\n",
            "7                               Issued Date                  1087\n",
            "30               Revolving Line Utilization                  1108\n",
            "6               Application Expiration Date                  1549\n",
            "5                          Application Date                  1550\n",
            "15                     Debt-To-Income Ratio                  2836\n",
            "38                                Education                  3669\n",
            "2                Amount Funded By Investors                  4015\n",
            "24                           Monthly Income                  5103\n",
            "26                     Earliest CREDIT Line                  9564\n",
            "21                                     City                 10311\n",
            "12                          Monthly PAYMENT                 14835\n",
            "9                                Loan Title                 19465\n",
            "29                 Revolving CREDIT Balance                 20613\n",
            "11                         Loan Description                 25579\n",
            "16  Remaining Principal Funded by Investors                 27324\n",
            "18                     Remaining Principal                  27427\n",
            "17   Payments To Date (Funded by investors)                 31232\n",
            "19                         Payments To Date                 31533\n",
            "20                              Screen Name                 36393\n",
            "0                                   Loan ID                 36396\n"
          ]
        }
      ]
    },
    {
      "cell_type": "code",
      "source": [
        "#lets check the data type present in the dataset\n",
        "df.info()"
      ],
      "metadata": {
        "colab": {
          "base_uri": "https://localhost:8080/"
        },
        "id": "P5rZDtZAQou8",
        "outputId": "2a21b152-e59a-4968-e207-c0f63d54fa22"
      },
      "execution_count": 10,
      "outputs": [
        {
          "output_type": "stream",
          "name": "stdout",
          "text": [
            "<class 'pandas.core.frame.DataFrame'>\n",
            "RangeIndex: 36396 entries, 0 to 36395\n",
            "Data columns (total 41 columns):\n",
            " #   Column                                   Non-Null Count  Dtype  \n",
            "---  ------                                   --------------  -----  \n",
            " 0   Loan ID                                  36396 non-null  object \n",
            " 1   Amount Requested                         36395 non-null  float64\n",
            " 2   Amount Funded By Investors               36395 non-null  float64\n",
            " 3   Interest Rate                            36395 non-null  object \n",
            " 4   Loan Length                              36395 non-null  object \n",
            " 5   Application Date                         36395 non-null  object \n",
            " 6   Application Expiration Date              36395 non-null  object \n",
            " 7   Issued Date                              36219 non-null  object \n",
            " 8   CREDIT Grade                             36395 non-null  object \n",
            " 9   Loan Title                               36382 non-null  object \n",
            " 10  Loan Purpose                             36395 non-null  object \n",
            " 11  Loan Description                         25852 non-null  object \n",
            " 12  Monthly PAYMENT                          36395 non-null  float64\n",
            " 13  Status                                   36395 non-null  object \n",
            " 14  Total Amount Funded                      36395 non-null  float64\n",
            " 15  Debt-To-Income Ratio                     36395 non-null  object \n",
            " 16  Remaining Principal Funded by Investors  36395 non-null  float64\n",
            " 17  Payments To Date (Funded by investors)   36395 non-null  float64\n",
            " 18  Remaining Principal                      36395 non-null  float64\n",
            " 19   Payments To Date                        36395 non-null  float64\n",
            " 20  Screen Name                              36394 non-null  object \n",
            " 21  City                                     36395 non-null  object \n",
            " 22  State                                    36395 non-null  object \n",
            " 23  Home Ownership                           36395 non-null  object \n",
            " 24  Monthly Income                           36395 non-null  float64\n",
            " 25  FICO Range                               36378 non-null  object \n",
            " 26  Earliest CREDIT Line                     36366 non-null  object \n",
            " 27  Open CREDIT Lines                        36366 non-null  float64\n",
            " 28  Total CREDIT Lines                       36366 non-null  float64\n",
            " 29  Revolving CREDIT Balance                 36366 non-null  float64\n",
            " 30  Revolving Line Utilization               36308 non-null  object \n",
            " 31  Inquiries in the Last 6 Months           36366 non-null  float64\n",
            " 32  Accounts Now Delinquent                  36366 non-null  float64\n",
            " 33  Delinquent Amount                        36366 non-null  float64\n",
            " 34  Delinquencies (Last 2 yrs)               36366 non-null  float64\n",
            " 35  Months Since Last Delinquency            13701 non-null  float64\n",
            " 36  Public Records On File                   36366 non-null  float64\n",
            " 37  Months Since Last Record                 3432 non-null   float64\n",
            " 38  Education                                5873 non-null   object \n",
            " 39  Employment Length                        35492 non-null  object \n",
            " 40  Code                                     25475 non-null  float64\n",
            "dtypes: float64(20), object(21)\n",
            "memory usage: 11.4+ MB\n"
          ]
        }
      ]
    },
    {
      "cell_type": "code",
      "source": [
        "# lest check the unique values in Status feature\n",
        "df['Status'].unique()"
      ],
      "metadata": {
        "colab": {
          "base_uri": "https://localhost:8080/"
        },
        "id": "LFqUtlQqOaC9",
        "outputId": "add283b3-fe59-4240-d30e-2e7f5fcb522b"
      },
      "execution_count": 11,
      "outputs": [
        {
          "output_type": "execute_result",
          "data": {
            "text/plain": [
              "array(['Fully Paid', 'Charged Off', 'Late (31-120 days)',\n",
              "       'Performing Payment Plan', 'Default', 'In Grace Period', 'Current',\n",
              "       'Late (16-30 days)', 'Issued', 'In Review', nan,\n",
              "       'Does not meet the current credit policy  Status: Fully Paid',\n",
              "       'Does not meet the current credit policy  Status: Performing Payment Plan',\n",
              "       'Does not meet the current credit policy  Status: Charged Off',\n",
              "       'Does not meet the current credit policy  Status: Late (31-120 days)',\n",
              "       'Does not meet the current credit policy  Status: In Grace Period',\n",
              "       'Does not meet the current credit policy  Status: Late (16-30 days)',\n",
              "       'Does not meet the current credit policy  Status: Current',\n",
              "       'Does not meet the current credit policy  Status: Default'],\n",
              "      dtype=object)"
            ]
          },
          "metadata": {},
          "execution_count": 11
        }
      ]
    },
    {
      "cell_type": "code",
      "source": [
        "#remove all other records except the  'Fully paid', 'Charged off', 'Late (31-120 days), 'Default', 'In Grace Period' and  'Current' records\n",
        "data_with_loanstatus_sliced = df[(df['Status']==\"Fully Paid\") | (df['Status']==\"Charged Off\") |\n",
        "                                   (df['Status']=='Does not meet the current credit policy  Status: Fully Paid') | (df['Status']=='Does not meet the current credit policy  Status: Charged Off') | (df['Status']==\"Late (31-120 days)\") | \n",
        "                                   (df['Status']==\"Default\") | (df['Status']==\"In Grace Period\") | (df['Status']==\"Current\")| (df['Status']==\"Issued\")| (df['Status']==\"Does not meet the current credit policy  Status: Current\")|\n",
        "                                   (df['Status']==\"Does not meet the current credit policy  Status: Late (31-120 days)\")| (df['Status']==\"Does not meet the current credit policy  Status: In Grace Period\")|(df['Status']==\"Does not meet the current credit policy  Status: Default\")]"
      ],
      "metadata": {
        "id": "Bk7GKiqCHHn2"
      },
      "execution_count": 12,
      "outputs": []
    },
    {
      "cell_type": "code",
      "source": [
        "# lets change class value with the integer \n",
        "val =  {\"Fully Paid\":0, \"Charged Off\":5, 'Does not meet the current credit policy  Status: Fully Paid':0, \n",
        "        'Does not meet the current credit policy  Status: Charged Off':5, 'Late (31-120 days)':2, 'Default': 4, \n",
        "        'In Grace Period':3, 'Current':1,'Issued':6, 'Does not meet the current credit policy  Status: Current':1, \n",
        "        'Does not meet the current credit policy  Status: Late (31-120 days)':2,\n",
        "        'Does not meet the current credit policy  Status: In Grace Period':3,\n",
        "        'Does not meet the current credit policy  Status: Default':4} \n",
        "df=data_with_loanstatus_sliced.replace({\"Status\":val})"
      ],
      "metadata": {
        "id": "i43gvm2SNrui"
      },
      "execution_count": 13,
      "outputs": []
    },
    {
      "cell_type": "code",
      "source": [
        "# convert the \"Earliest CREDIT Line\" attribute to  Python Date time object.\n",
        "df[\"Earliest CREDIT Line\"]=pd.to_datetime(df['Earliest CREDIT Line'])"
      ],
      "metadata": {
        "id": "fm-Y19iQNwln"
      },
      "execution_count": 14,
      "outputs": []
    },
    {
      "cell_type": "code",
      "source": [
        "# treat the null value present in the \"Earliest CREDIT Line\".\n",
        "dd=int(df['Earliest CREDIT Line'].dt.day.median())\n",
        "mm=int(df['Earliest CREDIT Line'].dt.month.median())\n",
        "yy=int(df['Earliest CREDIT Line'].dt.year.median())"
      ],
      "metadata": {
        "id": "DLAWpPQGQK5Y"
      },
      "execution_count": 15,
      "outputs": []
    },
    {
      "cell_type": "code",
      "source": [
        "d=dt.datetime(yy,mm,dd)\n",
        "date =d.date()"
      ],
      "metadata": {
        "id": "UVruRjGLIpW-"
      },
      "execution_count": 16,
      "outputs": []
    },
    {
      "cell_type": "code",
      "source": [
        "# replacing null value in 'Earliest CREDIT Line' with median date\n",
        "df['Earliest CREDIT Line']=df['Earliest CREDIT Line'].fillna(date)"
      ],
      "metadata": {
        "id": "Hb6NwAtBJBT9"
      },
      "execution_count": 17,
      "outputs": []
    },
    {
      "cell_type": "code",
      "source": [
        "# check the null value in the 'Earliest CREDIT Line' \n",
        "df['Earliest CREDIT Line'].isnull().any()"
      ],
      "metadata": {
        "colab": {
          "base_uri": "https://localhost:8080/"
        },
        "id": "qwhKOwuaJBn4",
        "outputId": "a4014fc2-4571-4f45-ccf1-d6491a7c46fb"
      },
      "execution_count": 18,
      "outputs": [
        {
          "output_type": "execute_result",
          "data": {
            "text/plain": [
              "False"
            ]
          },
          "metadata": {},
          "execution_count": 18
        }
      ]
    },
    {
      "cell_type": "code",
      "source": [
        "# convert 'Application Date' to date-time attribute\n",
        "df['Application Date']=pd.to_datetime(df['Application Date'])\n",
        "dd=int(df['Application Date'].dt.day.median())\n",
        "mm=int(df['Application Date'].dt.month.median())\n",
        "yy=int(df['Application Date'].dt.year.median())\n",
        "d = dt.datetime(yy,mm,dd)\n",
        "date = d.date()\n",
        "df['Application Date'] = df['Application Date'].fillna(date)"
      ],
      "metadata": {
        "id": "Jp6aoUj1Mb0t"
      },
      "execution_count": 19,
      "outputs": []
    },
    {
      "cell_type": "code",
      "source": [
        "# convert 'Application Expiration Date' to date-time attribute\n",
        "\n",
        "df['Application Expiration Date'] = pd.to_datetime(df['Application Expiration Date'])\n",
        "dd=int(df['Application Expiration Date'].dt.day.median())\n",
        "mm=int(df['Application Expiration Date'].dt.month.median())\n",
        "yy=int(df['Application Expiration Date'].dt.year.median())\n",
        "d = dt.datetime(yy,mm,dd)\n",
        "date = d.date()\n",
        "df['Application Expiration Date'] = df['Application Expiration Date'].fillna(date)"
      ],
      "metadata": {
        "id": "MFV3AI1rqCo3"
      },
      "execution_count": 20,
      "outputs": []
    },
    {
      "cell_type": "code",
      "source": [
        "# converting 'Issue Date' to date-time attribute\n",
        "df['Issued Date'] = pd.to_datetime(df['Issued Date'])\n",
        "dd=int(df['Issued Date'].dt.day.median())\n",
        "mm=int(df['Issued Date'].dt.month.median())\n",
        "yy=int(df['Issued Date'].dt.year.median())\n",
        "d = dt.datetime(yy,mm,dd)\n",
        "date = d.date()\n",
        "df['Issued Date'] = df['Issued Date'].fillna(date)"
      ],
      "metadata": {
        "id": "jcOEzOEdq0Bf"
      },
      "execution_count": 21,
      "outputs": []
    },
    {
      "cell_type": "code",
      "source": [
        "# converting the string value to numeric value\n",
        "# intrest rate\n",
        "df['Interest Rate'] =df['Interest Rate'].replace({'%':''},regex=True)\n",
        "df['Interest Rate']= df['Interest Rate'].apply(lambda x : float(x))"
      ],
      "metadata": {
        "id": "2nxixVvdr1mI"
      },
      "execution_count": 22,
      "outputs": []
    },
    {
      "cell_type": "code",
      "source": [
        "# just to check\n",
        "print(df['Interest Rate'][0:5])\n",
        "print('\\n')\n",
        "print(df['Interest Rate'].dtype)"
      ],
      "metadata": {
        "colab": {
          "base_uri": "https://localhost:8080/"
        },
        "id": "HfTt2fcUs2P_",
        "outputId": "60354a13-12e3-4992-a18f-777608ef3394"
      },
      "execution_count": 23,
      "outputs": [
        {
          "output_type": "stream",
          "name": "stdout",
          "text": [
            "0    13.75\n",
            "1     7.43\n",
            "2     8.07\n",
            "3    10.28\n",
            "4     8.07\n",
            "Name: Interest Rate, dtype: float64\n",
            "\n",
            "\n",
            "float64\n"
          ]
        }
      ]
    },
    {
      "cell_type": "code",
      "source": [
        "# convert 'Debt-To-Income Ratio' to numerical datatype\n",
        "df['Debt-To-Income Ratio'] = df['Debt-To-Income Ratio'].replace({'%':''}, regex = True)\n",
        "df['Debt-To-Income Ratio'] = df['Debt-To-Income Ratio'].apply(lambda x:float(x))"
      ],
      "metadata": {
        "id": "yJG1n_mLs6vG"
      },
      "execution_count": 24,
      "outputs": []
    },
    {
      "cell_type": "code",
      "source": [
        "# convert 'Revolving Line Utilization' to numerical datatype\n",
        "df['Revolving Line Utilization'] = df['Revolving Line Utilization'].replace({'%':''}, regex = True)\n",
        "df['Revolving Line Utilization'] = df['Revolving Line Utilization'].apply(lambda x:float(x))"
      ],
      "metadata": {
        "id": "beHahHK72MKJ"
      },
      "execution_count": 25,
      "outputs": []
    },
    {
      "cell_type": "code",
      "source": [
        "# lets work with the attributes with redentent information and extract numerical data and transform to numeric value\n",
        "df['Loan Length'] = df['Loan Length'].replace({' months':''}, regex = True)\n",
        "df['Loan Length'] = df['Loan Length'].apply(lambda x:int(x))"
      ],
      "metadata": {
        "id": "83OmLcOZ2ttQ"
      },
      "execution_count": 26,
      "outputs": []
    },
    {
      "cell_type": "code",
      "source": [
        "# lets work with categorical variable\n",
        "# lets remove the space in 'CREDIT Grade' to 'CREDIT_Grade'\n",
        "df.rename(columns = {'CREDIT Grade':'CREDIT_Grade'}, inplace = True)\n",
        "df.rename(columns = {'Home Ownership':'Home_Ownership'}, inplace = True)\n",
        "df.rename(columns = {'FICO Range':'FICO_Range'}, inplace = True)\n"
      ],
      "metadata": {
        "id": "ywWNUaBY25Fn"
      },
      "execution_count": 27,
      "outputs": []
    },
    {
      "cell_type": "code",
      "source": [
        "# let's check the unique values present in the above variable \n",
        "print('unique value in CREDIT_Grade: ')\n",
        "print(df['CREDIT_Grade'].unique())\n",
        "print('\\n')\n",
        "print('unique value in Home_Ownership: ')\n",
        "print(df['Home_Ownership'].unique())\n",
        "print('\\n')\n",
        "print('unique value in FICO_Range: ')\n",
        "print(df['FICO_Range'].unique())"
      ],
      "metadata": {
        "colab": {
          "base_uri": "https://localhost:8080/"
        },
        "id": "VjMc8SID8yK0",
        "outputId": "5418d6b5-6a3b-4752-eb0d-775e7fd11f1c"
      },
      "execution_count": 28,
      "outputs": [
        {
          "output_type": "stream",
          "name": "stdout",
          "text": [
            "unique value in CREDIT_Grade: \n",
            "['E2' 'A2' 'A4' 'C1' 'B1' 'C4' 'B5' 'B3' 'A5' 'A3' 'B2' 'C2' 'F4' 'C5'\n",
            " 'E1' 'D3' 'B4' 'D1' 'F1' 'D4' 'C3' 'D2' 'F2' 'A1' 'E4' 'F3' 'E5' 'D5'\n",
            " 'E3' 'G5' 'F5' 'G4' 'G3' 'G2' 'G1']\n",
            "\n",
            "\n",
            "unique value in Home_Ownership: \n",
            "['OWN' 'MORTGAGE' 'RENT' 'NONE' 'ANY']\n",
            "\n",
            "\n",
            "unique value in FICO_Range: \n",
            "['660-678' '780+' '714-749' '679-713' '750-779' nan '640-659']\n"
          ]
        }
      ]
    },
    {
      "cell_type": "code",
      "source": [
        "# lets replace the above test value by numerical values\n",
        "# replcae the value as \"640-659\":6,\n",
        "                        #\"660-678\":5,\n",
        "                        #\"679-713\":4,\n",
        "                        #\"714-749\":3,\n",
        "                        #\"750-779\":2,\n",
        "                        #\"780+\":1\n",
        "df[\"FICO_Range\"] = df[\"FICO_Range\"].map({\"640-659\":6,\"660-678\":5,\"679-713\":4,\"714-749\":3,\"750-779\":2,\"780+\":1})\n"
      ],
      "metadata": {
        "id": "XHxjC0Ta-9JI"
      },
      "execution_count": 29,
      "outputs": []
    },
    {
      "cell_type": "code",
      "source": [
        "# also there are some null value lets treat them\n",
        "print(df['FICO_Range'].value_counts())\n",
        "print('\\n')\n",
        "print('null value presents are: ')\n",
        "print(df['FICO_Range'].isnull().sum())"
      ],
      "metadata": {
        "colab": {
          "base_uri": "https://localhost:8080/"
        },
        "id": "5JQ9XOJZ1Zxk",
        "outputId": "8164f7c8-3e57-4eee-9288-840d10d62261"
      },
      "execution_count": 30,
      "outputs": [
        {
          "output_type": "stream",
          "name": "stdout",
          "text": [
            "4.0    12508\n",
            "3.0    10250\n",
            "5.0     5660\n",
            "2.0     4898\n",
            "1.0     2064\n",
            "6.0      472\n",
            "Name: FICO_Range, dtype: int64\n",
            "\n",
            "\n",
            "null value presents are: \n",
            "17\n"
          ]
        }
      ]
    },
    {
      "cell_type": "code",
      "source": [
        "# replace null value with 3\n",
        "df['FICO_Range']=df['FICO_Range'].fillna(3)"
      ],
      "metadata": {
        "id": "WI2Wo5Je2KPU"
      },
      "execution_count": 31,
      "outputs": []
    },
    {
      "cell_type": "code",
      "source": [
        "# lets study the Education Attributes\n",
        "print(len(df['Education'].unique()))\n",
        "print('\\n')\n",
        "print(df['Education'].unique()[0:10])\n",
        "print('\\n')\n",
        "print('null value present tin the attribute')\n",
        "print(df['Education'].isnull().sum())"
      ],
      "metadata": {
        "colab": {
          "base_uri": "https://localhost:8080/"
        },
        "id": "80sNRTU83c-X",
        "outputId": "a3f8ff4e-71cb-4964-ce22-857952dd8f4b"
      },
      "execution_count": 32,
      "outputs": [
        {
          "output_type": "stream",
          "name": "stdout",
          "text": [
            "3622\n",
            "\n",
            "\n",
            "[nan 'Youngstown State University' 'University of Connecticut'\n",
            " 'Rochester Institute of Technology (RIT)' 'Penn State-University Park'\n",
            " 'Missouri State University'\n",
            " 'Columbia University in the City of New York,Harvard University'\n",
            " 'Aquinas College' 'Western Washington University'\n",
            " 'Georgia Institute of Technology']\n",
            "\n",
            "\n",
            "null value present tin the attribute\n",
            "30085\n"
          ]
        }
      ]
    },
    {
      "cell_type": "code",
      "source": [
        "# lets replace null value with zero and all education details with 1\n",
        "df['Education']=df['Education'].fillna(0)\n",
        "df['Education']=df['Education'].apply(lambda x : 0 if x == 0 else 1 )"
      ],
      "metadata": {
        "id": "dXI3Nk3C4MSK"
      },
      "execution_count": 33,
      "outputs": []
    },
    {
      "cell_type": "code",
      "source": [
        "df['Education'].unique()"
      ],
      "metadata": {
        "colab": {
          "base_uri": "https://localhost:8080/"
        },
        "id": "UWKWfRzf511x",
        "outputId": "d1048b63-1a32-4791-ffd8-35d064fbfc78"
      },
      "execution_count": 34,
      "outputs": [
        {
          "output_type": "execute_result",
          "data": {
            "text/plain": [
              "array([0, 1])"
            ]
          },
          "metadata": {},
          "execution_count": 34
        }
      ]
    },
    {
      "cell_type": "code",
      "source": [
        "# lets work on Employment Length attribute\n",
        "# first rename the attribute\n",
        "df.rename(columns={'Employment Length':'Employment_Length'},inplace=True)\n"
      ],
      "metadata": {
        "id": "0LHuy9X38rVW"
      },
      "execution_count": 35,
      "outputs": []
    },
    {
      "cell_type": "code",
      "source": [
        "# lets check the unique value present in the Employment_Length\n",
        "print(df['Employment_Length'].unique())\n",
        "print('\\n')\n",
        "print('null value presents are: ')\n",
        "print(df['Employment_Length'].isnull().sum())"
      ],
      "metadata": {
        "colab": {
          "base_uri": "https://localhost:8080/"
        },
        "id": "mhFYYQpG9ps6",
        "outputId": "4a99bf27-8dff-4332-e169-e83fc8a41238"
      },
      "execution_count": 36,
      "outputs": [
        {
          "output_type": "stream",
          "name": "stdout",
          "text": [
            "['< 1 year' '3 years' '4 years' '5 years' '1 year' '2 years' '8 years'\n",
            " '7 years' '6 years' '9 years' '10+ years' nan]\n",
            "\n",
            "\n",
            "null value presents are: \n",
            "875\n"
          ]
        }
      ]
    },
    {
      "cell_type": "code",
      "source": [
        "# fill null value with zero\n",
        "df['Employment_Length'] = df['Employment_Length'].fillna(0)\n",
        "\n",
        "# lets convert output text variable to numeric variable.\n",
        "# '< 1 year':1, \n",
        "# '1 year':2, \n",
        "# '2 years':3, \n",
        "# '3 years':4, \n",
        "# '4 years':5, \n",
        "# '5 years':6, \n",
        "# '7 years':8, \n",
        "# '6 years':7, \n",
        "# '8 years':9, \n",
        "# '9 years':10, \n",
        "# '10+ years':11\n",
        "\n",
        "df['Employment_Length'] = df['Employment_Length'].map({'< 1 year':1, '3 years':4, \n",
        "                                                       '4 years':5, '5 years':6, '1 year':2, \n",
        "                                                       '2 years':3, '8 years':9, '7 years':8, \n",
        "                                                       '6 years':7, '9 years':10, '10+ years':11})\n",
        "\n"
      ],
      "metadata": {
        "id": "yTwcpmHT-B5B"
      },
      "execution_count": 37,
      "outputs": []
    },
    {
      "cell_type": "code",
      "source": [
        "df['Employment_Length'][0:5]"
      ],
      "metadata": {
        "colab": {
          "base_uri": "https://localhost:8080/"
        },
        "id": "CpOUKyyqA0VC",
        "outputId": "53c9c7dc-c5fb-4ad3-84a0-22cba6ab7941"
      },
      "execution_count": 38,
      "outputs": [
        {
          "output_type": "execute_result",
          "data": {
            "text/plain": [
              "0    1.0\n",
              "1    1.0\n",
              "2    1.0\n",
              "3    4.0\n",
              "4    5.0\n",
              "Name: Employment_Length, dtype: float64"
            ]
          },
          "metadata": {},
          "execution_count": 38
        }
      ]
    },
    {
      "cell_type": "code",
      "source": [
        "# lets work with 'Loan Purpose' attribute\n",
        "# rename the column name\n",
        "df.rename(columns={'Loan Purpose':'Loan_Purpose'},inplace=True)"
      ],
      "metadata": {
        "id": "fHGj76fsA8Cq"
      },
      "execution_count": 39,
      "outputs": []
    },
    {
      "cell_type": "code",
      "source": [
        "# lets check the unique value present in the 'Loan_Purpose' attribute\n",
        "print(len(df['Loan_Purpose'].unique()))\n",
        "print('\\n')\n",
        "print(df['Loan_Purpose'].value_counts())"
      ],
      "metadata": {
        "colab": {
          "base_uri": "https://localhost:8080/"
        },
        "id": "PsmW7IFYBwET",
        "outputId": "c1e1991f-dbcf-4581-bba4-b882229a8c4a"
      },
      "execution_count": 40,
      "outputs": [
        {
          "output_type": "stream",
          "name": "stdout",
          "text": [
            "14\n",
            "\n",
            "\n",
            "debt_consolidation    16270\n",
            "credit_card            4376\n",
            "other                  3855\n",
            "home_improvement       2808\n",
            "major_purchase         2113\n",
            "small_business         1699\n",
            "car                    1445\n",
            "wedding                 886\n",
            "medical                 647\n",
            "moving                  557\n",
            "educational             417\n",
            "house                   357\n",
            "vacation                343\n",
            "renewable_energy         96\n",
            "Name: Loan_Purpose, dtype: int64\n"
          ]
        }
      ]
    },
    {
      "cell_type": "code",
      "source": [
        "# now for the remaining fill na with mean of that attributes column\n",
        "df=df.fillna(df.mean())"
      ],
      "metadata": {
        "id": "UkjKYkB2FaNt"
      },
      "execution_count": 41,
      "outputs": []
    },
    {
      "cell_type": "code",
      "source": [],
      "metadata": {
        "id": "Y7hu4LR7GNZU"
      },
      "execution_count": 41,
      "outputs": []
    },
    {
      "cell_type": "markdown",
      "source": [
        "Attribute selection for Modeling"
      ],
      "metadata": {
        "id": "vGGHXD5LJZU4"
      }
    },
    {
      "cell_type": "code",
      "source": [
        "# we will not consider below attribute in the modeling\n",
        "dcolumns = ['Loan ID', 'Amount Funded By Investors','Loan Title','Loan_Purpose',\n",
        "            'Loan Description','Total Amount Funded','Remaining Principal Funded by Investors',\n",
        "            'Payments To Date (Funded by investors)',\n",
        "            'Screen Name','City','Code' ,'Application Date', 'Application Expiration Date', 'Issued Date','Earliest CREDIT Line',\n",
        "           'Inquiries in the Last 6 Months','Accounts Now Delinquent','Delinquent Amount','Delinquencies (Last 2 yrs)',\n",
        "            'Months Since Last Delinquency','Public Records On File','Months Since Last Record',\n",
        "           'CREDIT_Grade','State','Home_Ownership','FICO_Range','Education','Employment_Length']\n",
        "# drop the above columns from the modeling\n",
        "df=df.drop(dcolumns,axis=1)"
      ],
      "metadata": {
        "id": "xQTVSGa7JdJi"
      },
      "execution_count": 42,
      "outputs": []
    },
    {
      "cell_type": "code",
      "source": [
        "df.head()"
      ],
      "metadata": {
        "colab": {
          "base_uri": "https://localhost:8080/",
          "height": 285
        },
        "id": "QmlPnt24Kgct",
        "outputId": "e472c600-3d36-4aec-d222-6d2f34684515"
      },
      "execution_count": 43,
      "outputs": [
        {
          "output_type": "execute_result",
          "data": {
            "text/plain": [
              "   Amount Requested  Interest Rate  Loan Length  Monthly PAYMENT  Status  \\\n",
              "0            7500.0          13.75           36           255.43       0   \n",
              "1            5000.0           7.43           36           155.38       0   \n",
              "2            5000.0           8.07           36           156.84       0   \n",
              "3            8500.0          10.28           36           275.38       0   \n",
              "4            2500.0           8.07           36            78.42       0   \n",
              "\n",
              "   Debt-To-Income Ratio  Remaining Principal    Payments To Date  \\\n",
              "0                 14.29                   0.0            9194.98   \n",
              "1                  3.72                   0.0            5174.16   \n",
              "2                  2.30                   0.0            5272.08   \n",
              "3                  6.40                   0.0            9912.49   \n",
              "4                 11.33                   0.0            2822.72   \n",
              "\n",
              "   Monthly Income  Open CREDIT Lines  Total CREDIT Lines  \\\n",
              "0         1833.33                7.0                 8.0   \n",
              "1        16666.67               17.0                26.0   \n",
              "2         8333.33               11.0                20.0   \n",
              "3         1500.00                6.0                 9.0   \n",
              "4         9166.67               13.0                40.0   \n",
              "\n",
              "   Revolving CREDIT Balance  Revolving Line Utilization  \n",
              "0                    4175.0                        51.5  \n",
              "1                   85607.0                         0.7  \n",
              "2                    9698.0                        19.4  \n",
              "3                    8847.0                        26.9  \n",
              "4                    7274.0                        13.1  "
            ],
            "text/html": [
              "\n",
              "  <div id=\"df-b516b0fa-9a68-4a5b-9160-334b7b0f6d46\">\n",
              "    <div class=\"colab-df-container\">\n",
              "      <div>\n",
              "<style scoped>\n",
              "    .dataframe tbody tr th:only-of-type {\n",
              "        vertical-align: middle;\n",
              "    }\n",
              "\n",
              "    .dataframe tbody tr th {\n",
              "        vertical-align: top;\n",
              "    }\n",
              "\n",
              "    .dataframe thead th {\n",
              "        text-align: right;\n",
              "    }\n",
              "</style>\n",
              "<table border=\"1\" class=\"dataframe\">\n",
              "  <thead>\n",
              "    <tr style=\"text-align: right;\">\n",
              "      <th></th>\n",
              "      <th>Amount Requested</th>\n",
              "      <th>Interest Rate</th>\n",
              "      <th>Loan Length</th>\n",
              "      <th>Monthly PAYMENT</th>\n",
              "      <th>Status</th>\n",
              "      <th>Debt-To-Income Ratio</th>\n",
              "      <th>Remaining Principal</th>\n",
              "      <th>Payments To Date</th>\n",
              "      <th>Monthly Income</th>\n",
              "      <th>Open CREDIT Lines</th>\n",
              "      <th>Total CREDIT Lines</th>\n",
              "      <th>Revolving CREDIT Balance</th>\n",
              "      <th>Revolving Line Utilization</th>\n",
              "    </tr>\n",
              "  </thead>\n",
              "  <tbody>\n",
              "    <tr>\n",
              "      <th>0</th>\n",
              "      <td>7500.0</td>\n",
              "      <td>13.75</td>\n",
              "      <td>36</td>\n",
              "      <td>255.43</td>\n",
              "      <td>0</td>\n",
              "      <td>14.29</td>\n",
              "      <td>0.0</td>\n",
              "      <td>9194.98</td>\n",
              "      <td>1833.33</td>\n",
              "      <td>7.0</td>\n",
              "      <td>8.0</td>\n",
              "      <td>4175.0</td>\n",
              "      <td>51.5</td>\n",
              "    </tr>\n",
              "    <tr>\n",
              "      <th>1</th>\n",
              "      <td>5000.0</td>\n",
              "      <td>7.43</td>\n",
              "      <td>36</td>\n",
              "      <td>155.38</td>\n",
              "      <td>0</td>\n",
              "      <td>3.72</td>\n",
              "      <td>0.0</td>\n",
              "      <td>5174.16</td>\n",
              "      <td>16666.67</td>\n",
              "      <td>17.0</td>\n",
              "      <td>26.0</td>\n",
              "      <td>85607.0</td>\n",
              "      <td>0.7</td>\n",
              "    </tr>\n",
              "    <tr>\n",
              "      <th>2</th>\n",
              "      <td>5000.0</td>\n",
              "      <td>8.07</td>\n",
              "      <td>36</td>\n",
              "      <td>156.84</td>\n",
              "      <td>0</td>\n",
              "      <td>2.30</td>\n",
              "      <td>0.0</td>\n",
              "      <td>5272.08</td>\n",
              "      <td>8333.33</td>\n",
              "      <td>11.0</td>\n",
              "      <td>20.0</td>\n",
              "      <td>9698.0</td>\n",
              "      <td>19.4</td>\n",
              "    </tr>\n",
              "    <tr>\n",
              "      <th>3</th>\n",
              "      <td>8500.0</td>\n",
              "      <td>10.28</td>\n",
              "      <td>36</td>\n",
              "      <td>275.38</td>\n",
              "      <td>0</td>\n",
              "      <td>6.40</td>\n",
              "      <td>0.0</td>\n",
              "      <td>9912.49</td>\n",
              "      <td>1500.00</td>\n",
              "      <td>6.0</td>\n",
              "      <td>9.0</td>\n",
              "      <td>8847.0</td>\n",
              "      <td>26.9</td>\n",
              "    </tr>\n",
              "    <tr>\n",
              "      <th>4</th>\n",
              "      <td>2500.0</td>\n",
              "      <td>8.07</td>\n",
              "      <td>36</td>\n",
              "      <td>78.42</td>\n",
              "      <td>0</td>\n",
              "      <td>11.33</td>\n",
              "      <td>0.0</td>\n",
              "      <td>2822.72</td>\n",
              "      <td>9166.67</td>\n",
              "      <td>13.0</td>\n",
              "      <td>40.0</td>\n",
              "      <td>7274.0</td>\n",
              "      <td>13.1</td>\n",
              "    </tr>\n",
              "  </tbody>\n",
              "</table>\n",
              "</div>\n",
              "      <button class=\"colab-df-convert\" onclick=\"convertToInteractive('df-b516b0fa-9a68-4a5b-9160-334b7b0f6d46')\"\n",
              "              title=\"Convert this dataframe to an interactive table.\"\n",
              "              style=\"display:none;\">\n",
              "        \n",
              "  <svg xmlns=\"http://www.w3.org/2000/svg\" height=\"24px\"viewBox=\"0 0 24 24\"\n",
              "       width=\"24px\">\n",
              "    <path d=\"M0 0h24v24H0V0z\" fill=\"none\"/>\n",
              "    <path d=\"M18.56 5.44l.94 2.06.94-2.06 2.06-.94-2.06-.94-.94-2.06-.94 2.06-2.06.94zm-11 1L8.5 8.5l.94-2.06 2.06-.94-2.06-.94L8.5 2.5l-.94 2.06-2.06.94zm10 10l.94 2.06.94-2.06 2.06-.94-2.06-.94-.94-2.06-.94 2.06-2.06.94z\"/><path d=\"M17.41 7.96l-1.37-1.37c-.4-.4-.92-.59-1.43-.59-.52 0-1.04.2-1.43.59L10.3 9.45l-7.72 7.72c-.78.78-.78 2.05 0 2.83L4 21.41c.39.39.9.59 1.41.59.51 0 1.02-.2 1.41-.59l7.78-7.78 2.81-2.81c.8-.78.8-2.07 0-2.86zM5.41 20L4 18.59l7.72-7.72 1.47 1.35L5.41 20z\"/>\n",
              "  </svg>\n",
              "      </button>\n",
              "      \n",
              "  <style>\n",
              "    .colab-df-container {\n",
              "      display:flex;\n",
              "      flex-wrap:wrap;\n",
              "      gap: 12px;\n",
              "    }\n",
              "\n",
              "    .colab-df-convert {\n",
              "      background-color: #E8F0FE;\n",
              "      border: none;\n",
              "      border-radius: 50%;\n",
              "      cursor: pointer;\n",
              "      display: none;\n",
              "      fill: #1967D2;\n",
              "      height: 32px;\n",
              "      padding: 0 0 0 0;\n",
              "      width: 32px;\n",
              "    }\n",
              "\n",
              "    .colab-df-convert:hover {\n",
              "      background-color: #E2EBFA;\n",
              "      box-shadow: 0px 1px 2px rgba(60, 64, 67, 0.3), 0px 1px 3px 1px rgba(60, 64, 67, 0.15);\n",
              "      fill: #174EA6;\n",
              "    }\n",
              "\n",
              "    [theme=dark] .colab-df-convert {\n",
              "      background-color: #3B4455;\n",
              "      fill: #D2E3FC;\n",
              "    }\n",
              "\n",
              "    [theme=dark] .colab-df-convert:hover {\n",
              "      background-color: #434B5C;\n",
              "      box-shadow: 0px 1px 3px 1px rgba(0, 0, 0, 0.15);\n",
              "      filter: drop-shadow(0px 1px 2px rgba(0, 0, 0, 0.3));\n",
              "      fill: #FFFFFF;\n",
              "    }\n",
              "  </style>\n",
              "\n",
              "      <script>\n",
              "        const buttonEl =\n",
              "          document.querySelector('#df-b516b0fa-9a68-4a5b-9160-334b7b0f6d46 button.colab-df-convert');\n",
              "        buttonEl.style.display =\n",
              "          google.colab.kernel.accessAllowed ? 'block' : 'none';\n",
              "\n",
              "        async function convertToInteractive(key) {\n",
              "          const element = document.querySelector('#df-b516b0fa-9a68-4a5b-9160-334b7b0f6d46');\n",
              "          const dataTable =\n",
              "            await google.colab.kernel.invokeFunction('convertToInteractive',\n",
              "                                                     [key], {});\n",
              "          if (!dataTable) return;\n",
              "\n",
              "          const docLinkHtml = 'Like what you see? Visit the ' +\n",
              "            '<a target=\"_blank\" href=https://colab.research.google.com/notebooks/data_table.ipynb>data table notebook</a>'\n",
              "            + ' to learn more about interactive tables.';\n",
              "          element.innerHTML = '';\n",
              "          dataTable['output_type'] = 'display_data';\n",
              "          await google.colab.output.renderOutput(dataTable, element);\n",
              "          const docLink = document.createElement('div');\n",
              "          docLink.innerHTML = docLinkHtml;\n",
              "          element.appendChild(docLink);\n",
              "        }\n",
              "      </script>\n",
              "    </div>\n",
              "  </div>\n",
              "  "
            ]
          },
          "metadata": {},
          "execution_count": 43
        }
      ]
    },
    {
      "cell_type": "markdown",
      "source": [
        "* we can see from above dataset the dataset is clean with required attributes"
      ],
      "metadata": {
        "id": "Mzc3ITm5Kw1G"
      }
    },
    {
      "cell_type": "code",
      "source": [
        "# separate Independent and Depedent variabele\n",
        "X=df.drop(['Status'],axis=1)\n",
        "Y=df['Status']"
      ],
      "metadata": {
        "id": "J_vTL2ycKmux"
      },
      "execution_count": 44,
      "outputs": []
    },
    {
      "cell_type": "code",
      "source": [
        "# check the data shape\n",
        "print(X.shape,Y.shape)"
      ],
      "metadata": {
        "colab": {
          "base_uri": "https://localhost:8080/"
        },
        "id": "TKnb5aBALv9k",
        "outputId": "7512f9b8-f90d-4b2f-e3ac-ba57f4a61bc8"
      },
      "execution_count": 45,
      "outputs": [
        {
          "output_type": "stream",
          "name": "stdout",
          "text": [
            "(35869, 12) (35869,)\n"
          ]
        }
      ]
    },
    {
      "cell_type": "markdown",
      "source": [
        "* So we are having 35869 records which are good with 12 attributes in data"
      ],
      "metadata": {
        "id": "i1aC9ucbL8gE"
      }
    },
    {
      "cell_type": "code",
      "source": [
        "# lets normalize the dataset for further process\n",
        "scaler = MinMaxScaler()\n",
        "X=scaler.fit_transform(X)"
      ],
      "metadata": {
        "id": "DbFqRpnNL5jb"
      },
      "execution_count": 46,
      "outputs": []
    },
    {
      "cell_type": "code",
      "source": [
        "# lets split the data to train test data\n",
        "X_train,X_test,y_train,y_test = train_test_split(X,Y,test_size=0.2,random_state=42)"
      ],
      "metadata": {
        "id": "vw-gJmUmNTr2"
      },
      "execution_count": 57,
      "outputs": []
    },
    {
      "cell_type": "code",
      "source": [
        "# take Logistic regression attribute\n",
        "lr = LogisticRegression(multi_class='multinomial', random_state=1)\n"
      ],
      "metadata": {
        "id": "3ti5IN_VCSjw"
      },
      "execution_count": 58,
      "outputs": []
    },
    {
      "cell_type": "code",
      "source": [
        "lr.fit(X_train,y_train)"
      ],
      "metadata": {
        "colab": {
          "base_uri": "https://localhost:8080/",
          "height": 75
        },
        "id": "GyC-ct2rjwLD",
        "outputId": "d70871f4-d850-4440-e169-e10d1b90f465"
      },
      "execution_count": 59,
      "outputs": [
        {
          "output_type": "execute_result",
          "data": {
            "text/plain": [
              "LogisticRegression(multi_class='multinomial', random_state=1)"
            ],
            "text/html": [
              "<style>#sk-container-id-2 {color: black;background-color: white;}#sk-container-id-2 pre{padding: 0;}#sk-container-id-2 div.sk-toggleable {background-color: white;}#sk-container-id-2 label.sk-toggleable__label {cursor: pointer;display: block;width: 100%;margin-bottom: 0;padding: 0.3em;box-sizing: border-box;text-align: center;}#sk-container-id-2 label.sk-toggleable__label-arrow:before {content: \"▸\";float: left;margin-right: 0.25em;color: #696969;}#sk-container-id-2 label.sk-toggleable__label-arrow:hover:before {color: black;}#sk-container-id-2 div.sk-estimator:hover label.sk-toggleable__label-arrow:before {color: black;}#sk-container-id-2 div.sk-toggleable__content {max-height: 0;max-width: 0;overflow: hidden;text-align: left;background-color: #f0f8ff;}#sk-container-id-2 div.sk-toggleable__content pre {margin: 0.2em;color: black;border-radius: 0.25em;background-color: #f0f8ff;}#sk-container-id-2 input.sk-toggleable__control:checked~div.sk-toggleable__content {max-height: 200px;max-width: 100%;overflow: auto;}#sk-container-id-2 input.sk-toggleable__control:checked~label.sk-toggleable__label-arrow:before {content: \"▾\";}#sk-container-id-2 div.sk-estimator input.sk-toggleable__control:checked~label.sk-toggleable__label {background-color: #d4ebff;}#sk-container-id-2 div.sk-label input.sk-toggleable__control:checked~label.sk-toggleable__label {background-color: #d4ebff;}#sk-container-id-2 input.sk-hidden--visually {border: 0;clip: rect(1px 1px 1px 1px);clip: rect(1px, 1px, 1px, 1px);height: 1px;margin: -1px;overflow: hidden;padding: 0;position: absolute;width: 1px;}#sk-container-id-2 div.sk-estimator {font-family: monospace;background-color: #f0f8ff;border: 1px dotted black;border-radius: 0.25em;box-sizing: border-box;margin-bottom: 0.5em;}#sk-container-id-2 div.sk-estimator:hover {background-color: #d4ebff;}#sk-container-id-2 div.sk-parallel-item::after {content: \"\";width: 100%;border-bottom: 1px solid gray;flex-grow: 1;}#sk-container-id-2 div.sk-label:hover label.sk-toggleable__label {background-color: #d4ebff;}#sk-container-id-2 div.sk-serial::before {content: \"\";position: absolute;border-left: 1px solid gray;box-sizing: border-box;top: 0;bottom: 0;left: 50%;z-index: 0;}#sk-container-id-2 div.sk-serial {display: flex;flex-direction: column;align-items: center;background-color: white;padding-right: 0.2em;padding-left: 0.2em;position: relative;}#sk-container-id-2 div.sk-item {position: relative;z-index: 1;}#sk-container-id-2 div.sk-parallel {display: flex;align-items: stretch;justify-content: center;background-color: white;position: relative;}#sk-container-id-2 div.sk-item::before, #sk-container-id-2 div.sk-parallel-item::before {content: \"\";position: absolute;border-left: 1px solid gray;box-sizing: border-box;top: 0;bottom: 0;left: 50%;z-index: -1;}#sk-container-id-2 div.sk-parallel-item {display: flex;flex-direction: column;z-index: 1;position: relative;background-color: white;}#sk-container-id-2 div.sk-parallel-item:first-child::after {align-self: flex-end;width: 50%;}#sk-container-id-2 div.sk-parallel-item:last-child::after {align-self: flex-start;width: 50%;}#sk-container-id-2 div.sk-parallel-item:only-child::after {width: 0;}#sk-container-id-2 div.sk-dashed-wrapped {border: 1px dashed gray;margin: 0 0.4em 0.5em 0.4em;box-sizing: border-box;padding-bottom: 0.4em;background-color: white;}#sk-container-id-2 div.sk-label label {font-family: monospace;font-weight: bold;display: inline-block;line-height: 1.2em;}#sk-container-id-2 div.sk-label-container {text-align: center;}#sk-container-id-2 div.sk-container {/* jupyter's `normalize.less` sets `[hidden] { display: none; }` but bootstrap.min.css set `[hidden] { display: none !important; }` so we also need the `!important` here to be able to override the default hidden behavior on the sphinx rendered scikit-learn.org. See: https://github.com/scikit-learn/scikit-learn/issues/21755 */display: inline-block !important;position: relative;}#sk-container-id-2 div.sk-text-repr-fallback {display: none;}</style><div id=\"sk-container-id-2\" class=\"sk-top-container\"><div class=\"sk-text-repr-fallback\"><pre>LogisticRegression(multi_class=&#x27;multinomial&#x27;, random_state=1)</pre><b>In a Jupyter environment, please rerun this cell to show the HTML representation or trust the notebook. <br />On GitHub, the HTML representation is unable to render, please try loading this page with nbviewer.org.</b></div><div class=\"sk-container\" hidden><div class=\"sk-item\"><div class=\"sk-estimator sk-toggleable\"><input class=\"sk-toggleable__control sk-hidden--visually\" id=\"sk-estimator-id-2\" type=\"checkbox\" checked><label for=\"sk-estimator-id-2\" class=\"sk-toggleable__label sk-toggleable__label-arrow\">LogisticRegression</label><div class=\"sk-toggleable__content\"><pre>LogisticRegression(multi_class=&#x27;multinomial&#x27;, random_state=1)</pre></div></div></div></div></div>"
            ]
          },
          "metadata": {},
          "execution_count": 59
        }
      ]
    },
    {
      "cell_type": "code",
      "source": [
        "y_pred = lr.predict(X_test)"
      ],
      "metadata": {
        "id": "1-YQCNaXj6pP"
      },
      "execution_count": 60,
      "outputs": []
    },
    {
      "cell_type": "code",
      "source": [
        "y_test[0:10]"
      ],
      "metadata": {
        "colab": {
          "base_uri": "https://localhost:8080/"
        },
        "id": "dP0LtsdRkAjL",
        "outputId": "52835a81-c3bc-422d-c0b2-b0f620e09112"
      },
      "execution_count": 61,
      "outputs": [
        {
          "output_type": "execute_result",
          "data": {
            "text/plain": [
              "16415    1\n",
              "9063     1\n",
              "15364    1\n",
              "25956    1\n",
              "34467    0\n",
              "10465    0\n",
              "13169    1\n",
              "26206    1\n",
              "26290    1\n",
              "14730    2\n",
              "Name: Status, dtype: int64"
            ]
          },
          "metadata": {},
          "execution_count": 61
        }
      ]
    },
    {
      "cell_type": "code",
      "source": [
        "y_pred[0:10]"
      ],
      "metadata": {
        "colab": {
          "base_uri": "https://localhost:8080/"
        },
        "id": "Jhq44YX-kG6b",
        "outputId": "2318d578-d770-491d-f5ab-0fb905503793"
      },
      "execution_count": 62,
      "outputs": [
        {
          "output_type": "execute_result",
          "data": {
            "text/plain": [
              "array([1, 1, 1, 1, 0, 0, 1, 1, 1, 1])"
            ]
          },
          "metadata": {},
          "execution_count": 62
        }
      ]
    },
    {
      "cell_type": "code",
      "source": [
        "print(confusion_matrix(y_test,y_pred))"
      ],
      "metadata": {
        "colab": {
          "base_uri": "https://localhost:8080/"
        },
        "id": "hikJj7_9kJdr",
        "outputId": "92520b38-0116-42ef-e8f3-1aa0d0ac517a"
      },
      "execution_count": 63,
      "outputs": [
        {
          "output_type": "stream",
          "name": "stdout",
          "text": [
            "[[1135    0    0    0    0    0    0]\n",
            " [  99 4938    0    0    0    0    7]\n",
            " [   0   87    0    0    0    0    0]\n",
            " [   6   40    0    0    0    0    0]\n",
            " [   1    7    0    0    0    0    0]\n",
            " [   6  311    0    0    0    1    1]\n",
            " [   0  486    0    0    0    0   49]]\n"
          ]
        }
      ]
    },
    {
      "cell_type": "code",
      "source": [
        "print(precision_recall_fscore_support(y_test,y_pred,average='weighted'))"
      ],
      "metadata": {
        "colab": {
          "base_uri": "https://localhost:8080/"
        },
        "id": "W1qe3OB0lfyX",
        "outputId": "11c08d10-24be-4f93-c109-ba6212830071"
      },
      "execution_count": 69,
      "outputs": [
        {
          "output_type": "stream",
          "name": "stdout",
          "text": [
            "(0.8441373637615257, 0.8534987454697519, 0.7996778000218187, None)\n"
          ]
        }
      ]
    },
    {
      "cell_type": "markdown",
      "source": [
        "from above tupple we can say that the precision is 84.41% , recall is 85.34% and f1 score is 79.96% "
      ],
      "metadata": {
        "id": "QVCd9Tutrhqs"
      }
    },
    {
      "cell_type": "code",
      "source": [
        "# now we will perform hyper parameter tunning to improve the all performance matrix\n"
      ],
      "metadata": {
        "id": "Iil0toHtmfrG"
      },
      "execution_count": null,
      "outputs": []
    }
  ]
}